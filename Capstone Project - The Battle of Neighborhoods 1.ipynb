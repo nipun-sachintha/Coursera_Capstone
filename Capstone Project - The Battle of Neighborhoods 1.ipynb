{
    "cells": [
        {
            "cell_type": "markdown",
            "metadata": {
                "collapsed": true
            },
            "source": "# Introduction to Business Problem"
        },
        {
            "cell_type": "markdown",
            "metadata": {},
            "source": "### With considering current situations and available data, I thought that finding a better place for restaurant would be very important. Mainly with social distancing and current issues with covid 19.  people tends to deliver foods to their homes and tends to buy anything from near reataurants and shops."
        },
        {
            "cell_type": "markdown",
            "metadata": {},
            "source": "## My business problem:  Recommending a better place near Torronto city to open a restaurant."
        },
        {
            "cell_type": "markdown",
            "metadata": {},
            "source": "## Description of Data needed to solve this problem:"
        },
        {
            "cell_type": "markdown",
            "metadata": {},
            "source": "### I used the data set relevant to Segmenting and Clustering Neighborhoods in Toronto. In addition I used Foursquare location data to obtain relevant details of locations."
        },
        {
            "cell_type": "markdown",
            "metadata": {},
            "source": "## How I used this data to solve this problem:"
        },
        {
            "cell_type": "markdown",
            "metadata": {},
            "source": "### I use the Foursquare location data to explore the locations of restaurants throughout neigbourhoods. Accordingly I can find places where more restaurants are located and less restaurants are located. Then identify features which are mostly affected to this situation and make clusters with those features. Then I would be able to find rare places which have good environment for more restaurants but still very less amount already there.That would be a good place for recommendation."
        },
        {
            "cell_type": "code",
            "execution_count": null,
            "metadata": {},
            "outputs": [],
            "source": ""
        }
    ],
    "metadata": {
        "kernelspec": {
            "display_name": "Python 3.6",
            "language": "python",
            "name": "python3"
        },
        "language_info": {
            "codemirror_mode": {
                "name": "ipython",
                "version": 3
            },
            "file_extension": ".py",
            "mimetype": "text/x-python",
            "name": "python",
            "nbconvert_exporter": "python",
            "pygments_lexer": "ipython3",
            "version": "3.6.9"
        }
    },
    "nbformat": 4,
    "nbformat_minor": 1
}