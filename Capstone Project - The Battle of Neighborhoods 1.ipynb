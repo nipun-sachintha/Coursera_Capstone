{
    "cells": [
        {
            "cell_type": "markdown",
            "metadata": {
                "collapsed": true
            },
            "source": "# Introduction to Business Problem"
        },
        {
            "cell_type": "markdown",
            "metadata": {},
            "source": "### With considering current situations and available data, I thought that finding a better place for restaurant would be very important. Mainly with social distancing and current issues with covid 19.  people tends to deliver foods to their homes and tends to buy anything from near reataurants and shops."
        },
        {
            "cell_type": "markdown",
            "metadata": {},
            "source": "## My business problem:  Recommending a better place near Torronto city to open a restaurant."
        },
        {
            "cell_type": "markdown",
            "metadata": {},
            "source": "## Description of Data needed to solve this problem:"
        },
        {
            "cell_type": "markdown",
            "metadata": {},
            "source": "I used the data set relevant to Segmenting and Clustering Neighborhoods in Toronto. In addition I used Foursquare location data to obtain relevant details of locations."
        },
        {
            "cell_type": "markdown",
            "metadata": {},
            "source": "## How I used this data to solve this problem:"
        },
        {
            "cell_type": "markdown",
            "metadata": {},
            "source": "I use the Foursquare location data to explore the locations of restaurants throughout neigbourhoods. Accordingly I can find places where more restaurants are located and less restaurants are located. Then identify features which are mostly affected to this situation and make clusters with those features. Then I would be able to find rare places which have good environment for more restaurants but still very less amount already there.That would be a good place for recommendation."
        },
        {
            "cell_type": "markdown",
            "metadata": {},
            "source": "# Methodology"
        },
        {
            "cell_type": "markdown",
            "metadata": {},
            "source": "Used Foursquare api to get most recommended venues and popular places for food,tourism and other. Based on the properties of these venues calssify the all neighborhoods in Torronto to \ndifferent 5 clusters. Then we could find popular places which have simmilar features.\nFor clustering we use kmeans algorithem and it would be better option keep simmilar places quite close and keep different places far behind.\n\nExtract all the retaurants related to relevant neighborhoods and identify number of restaurants are distributed in neighborhoods.Based on that number neighborhoods are divided into three groups.\n\n1.Concentrated group - neibourhoods which have more than 24 restaurants.                                                                                                                          \n2.Medium group      - neibourhoods which have restaurants between 12 and 24\n\n3.Lower group      - neibourhoods which have restaurants less than 12\n\nThen identify how above three groups are placed in above 5 clusters."
        },
        {
            "cell_type": "markdown",
            "metadata": {},
            "source": "# Results"
        },
        {
            "cell_type": "markdown",
            "metadata": {},
            "source": "<table style=\"width:20%\">\n<tr>\n<th></th>\n<th>Cluster0</th>\n<th>Cluster1</th>\n<th>Cluster2</th>\n<th>Cluster3</th>\n<th>Cluster4</th>\n</tr>\n\n<tr>\n<td>Concentrated group</td>\n<td>83%</td>\n<td>0.0%</td>\n<td>17%</td>\n<td>0.0%</td>\n<td>0.0%</td>\n</tr>\n\n<tr>\n<td>Medium Group</td>\n<td>44%</td>\n<td>0.0%</td>\n<td>44%</td>\n<td>11%</td>\n<td>0.0%</td>\n</tr>\n\n<tr>\n<td>Lower Group</td>\n<td>22%</td>\n<td>11%</td>\n<td>0.0%</td>\n<td>55%</td>\n<td>11%</td>\n</tr>\n   \n</table>"
        },
        {
            "cell_type": "markdown",
            "metadata": {},
            "source": "When observing above results restaurants are mostly found in neighbourhoods which are in cluster0. We can assume that important factors which affect to restaurants are available there.\nWe can notice that still there are neighborhoods in the cluster 0 which has not enough restaurants like other places."
        },
        {
            "cell_type": "markdown",
            "metadata": {},
            "source": "# Discussion"
        },
        {
            "cell_type": "markdown",
            "metadata": {},
            "source": "Through the results we could notice that there is an opportunity in lower group section related to cluster0.\nNorth Toronto West, Lawrence Park in central Toronto and St. James Town, Cabbagetown in Downtown Toronto are the better places for start restaurant because of two reasons\n\n1.both of these places located in cluster0\n2.Still the number of restaurants are in lower side and more opportunity to expand."
        },
        {
            "cell_type": "markdown",
            "metadata": {},
            "source": "# Conclusion"
        },
        {
            "cell_type": "markdown",
            "metadata": {},
            "source": " When we observe clustering kmeans used mosly cafes,restaurants,coffeshops to seperate different clusters. We can improve this if we can use more additional features like population,avaiability of sites which people work,universities and economical details of relevant neighborhoods. Then we can involve feature extraction as well."
        },
        {
            "cell_type": "code",
            "execution_count": null,
            "metadata": {},
            "outputs": [],
            "source": ""
        }
    ],
    "metadata": {
        "kernelspec": {
            "display_name": "Python 3.6",
            "language": "python",
            "name": "python3"
        },
        "language_info": {
            "codemirror_mode": {
                "name": "ipython",
                "version": 3
            },
            "file_extension": ".py",
            "mimetype": "text/x-python",
            "name": "python",
            "nbconvert_exporter": "python",
            "pygments_lexer": "ipython3",
            "version": "3.6.9"
        }
    },
    "nbformat": 4,
    "nbformat_minor": 1
}